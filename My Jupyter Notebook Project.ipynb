{
 "cells": [
  {
   "cell_type": "markdown",
   "id": "d7eecf4f",
   "metadata": {},
   "source": [
    "# My Jupyter Notebook on GitHub Repository"
   ]
  },
  {
   "cell_type": "markdown",
   "id": "7c5d00eb",
   "metadata": {},
   "source": [
    "## Maureen Jarau \n",
    "\n",
    "I am currently completing my graduate degree in Biological Science field. My desired occupation is Data Scientist in Healthcare industry."
   ]
  },
  {
   "cell_type": "markdown",
   "id": "06ad1f2c",
   "metadata": {},
   "source": [
    "*I am interested in data science because I am very passionate about discovering hidden or new insights through data to add value to the healthcare industry.*"
   ]
  },
  {
   "cell_type": "markdown",
   "id": "c9415f35",
   "metadata": {},
   "source": [
    "### The following code should print 'Hello World!'"
   ]
  },
  {
   "cell_type": "code",
   "execution_count": 1,
   "id": "0cf7ae9d",
   "metadata": {
    "scrolled": true
   },
   "outputs": [
    {
     "name": "stdout",
     "output_type": "stream",
     "text": [
      "Hello World!\n"
     ]
    }
   ],
   "source": [
    "print(\"Hello World!\")"
   ]
  },
  {
   "cell_type": "markdown",
   "id": "48d572cf",
   "metadata": {},
   "source": [
    "| Column 1| Column 2 | Column 3|\n",
    "|:----|:----|:----|\n",
    "|**Hello**|*Hello again*|<a href=\"https://www.merriam-webster.com/dictionary/hello\"> Hello Definition</a>|\n",
    "|~~Helllo~~|`hello` | *Hello and __hello again__*|\n",
    "\n",
    "\n",
    "- Bullet 1\n",
    "- Bullet 2\n",
    " - *Bullet 2a*\n",
    "  - *Bullet 2b*\n",
    "- Bullet 3\n",
    "\n",
    "https://www.google.com/\n",
    "\n",
    "1. Number one\n",
    "2. Number two\n",
    "3. Number three"
   ]
  }
 ],
 "metadata": {
  "kernelspec": {
   "display_name": "Python 3 (ipykernel)",
   "language": "python",
   "name": "python3"
  },
  "language_info": {
   "codemirror_mode": {
    "name": "ipython",
    "version": 3
   },
   "file_extension": ".py",
   "mimetype": "text/x-python",
   "name": "python",
   "nbconvert_exporter": "python",
   "pygments_lexer": "ipython3",
   "version": "3.9.12"
  }
 },
 "nbformat": 4,
 "nbformat_minor": 5
}
